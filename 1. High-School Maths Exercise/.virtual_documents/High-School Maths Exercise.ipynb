# Write your imports her
import sympy
import math
import cmath
import numpy as np
import matplotlib.pyplot as plt









































x = sympy.symbols("x")
a,  b,  c = sympy.symbols("a, b, c")
a*x**2 + b*x + c 


sympy.solve(a*x**2 + b*x + c )


sympy.solve(a*x**2 + b*x + c, x )





def solve_linear_equation(a, b):
    return [] if a == 0 else [-b / a]


def solve_quadratic_equation(a, b, c):
    """
    Returns the real solutions of the quadratic equation ax^2 + bx +  c= 0
    """
    if a == 0:
        return solve_linear_equation(b, c)
    D = b ** 2 - 4 * a * c
    denominator = 2 * a
    if D > 0:
        return [(-b - math.sqrt(D))/(denominator), (-b + math.sqrt(D))/(denominator)]
    elif D == 0:
        return [(-b - math.sqrt(D))/(denominator)]
    else:
        return []


# Testing: Execute this cell. The outputs should match the expected outputs. Feel free to write more tests
print(solve_quadratic_equation(1, -1, -2)) # [-1.0, 2.0]
print(solve_quadratic_equation(1, -8, 16)) # [4.0]
print(solve_quadratic_equation(1, 1, 1)) # []


print(solve_quadratic_equation(0, 1, 1)) # x + 1 = 0, [-1]
print(solve_quadratic_equation(0, 0, 0)) # 0x + 0 = 0, []
print(solve_quadratic_equation(0, 0, 5)) # 0x +5 = 0, []





def solve_linear_equation(a, b):
    return [] if a == 0 else [-b / a]


def solve_quadratic_equation(a, b, c):
    """
    Returns the real solutions of the quadratic equation ax^2 + bx +  c= 0
    """
    if a == 0:
        return solve_linear_equation(b, c)
    D = b ** 2 - 4 * a * c
    denominator = 2 * a
    if D > 0:
        return [(-b - cmath.sqrt(D))/(denominator), (-b + cmath.sqrt(D))/(denominator)]
    elif D == 0:
        return [(-b - cmath.sqrt(D))/(denominator)]
    else:
        return []


print(solve_quadratic_equation(1, -1, -2)) # [-1.0, 2.0]
print(solve_quadratic_equation(1, -8, 16)) # [4.0]
print(solve_quadratic_equation(1, 1, 1)) # []


def solve_linear_equation(a, b):
    return [] if a == 0 else [-b / a]


def solve_quadratic_equation(a, b, c):

    if a == 0:
        x = (-b+math.sqrt(b**2-4*a*c))/2*a
        return "This equation has one solutions: ", x
    D = b ** 2 - 4 * a * c
    denominator = 2 * a
    
    if D > 0:
        x1 = (-b-math.sqrt(b**2-4*a*c))/2*a
        x2 = (-b+math.sqrt(b**2-4*a*c))/2*a
        return [x1, x2]
        
    elif D == 0:
        x = (-b+math.sqrt(b**2-4*a*c))/2*a
        return ["This equation has one solutions: ", x]

    else:
        return ["This equation has no real solution"]


print(solve_quadratic_equation(1, -1, -2)) # [-1.0, 2.0]
print(solve_quadratic_equation(1, -8, 16)) # [4.0]
print(solve_quadratic_equation(1, 1, 1)) # []





# Write your code here. Of course, you may add more cells if needed.

(pow(5, 2))


(pow(2, 3), math.pow(2, 3))


(math.sqrt(6))**2


math.log(1)


math.log(4, 0.5)


math.log(0.5, 4)





# Constatns
a = 2
b = 3


x = np.linspace(0, 10, 5)
y = 2 * x + 3
print(x, y)


# Write your code here

x = np.linspace(0, 10, 5)
for num in x:
    y = a * num + b
    print(x, y)


# Write your code here

x = np.linspace(0, 10, 5)
for num in x:
    y = a * num + b
    print(x, y)


x = np.linspace(0, 100, 5)
y = a * x + b
print(x,y)





x = np.linspace(0, 100, 5)
y = a * x + b

plt.plot(x, y)
plt.show()


# Copy and edit your code here

x = np.linspace(-10, 10, 5000)
y = np.sin(x)

plt.plot(x, y)
plt.show()


a = 8
b = 100

x = np.linspace(-10, 20, 5000)
y = a * x + b

plt.plot(x, y)

ax = plt.gca()

# Move the left and bottom spines to x = 0 and y = 0, respectively.
ax.spines[["left", "bottom"]].set_position(("data", 0))

ax.spines["bottom"].set_position("zero")
ax.spines["left"].set_position("zero")
ax.spines["top"].set_visible(False)
ax.spines["right"].set_visible(False)

plt.show()


a = 2
b = 8

x = np.linspace(5, 80, 8)
y = a * x + b

plt.plot(x, y) #plotting values
plt.grid(True) #grid of the plot
ax = plt.gca()


ax.spines["bottom"].set_position("zero") #positioning the axes and setting thier visibility
ax.spines["left"].set_position("zero")
ax.spines["top"].set_visible(False)
ax.spines["right"].set_visible(False)

ax.xaxis.get_major_ticks()[3].label1.set_visible(False) #hiding the x-axis zero point


plt.show()


a = 2
b = 8

x = np.arange(5, 80, 8)
y = np.log(a*(np.exp(b*x)))

plt.plot(x, y)
plt.grid(True)
ax = plt.gca()

ax.spines["bottom"].set_position("zero")
ax.spines["left"].set_position("zero")
ax.spines["top"].set_visible(False)
ax.spines["right"].set_visible(False)

ax.xaxis.get_major_ticks()[5].label1.set_visible(False)

plt.show()


def sigmoid(x):
    a = []
    for item in x:
        a.append(1/(1+math.exp(-item)))
    return a

    
x = np.arange(-10., 10., 0.2)
sig = sigmoid(x)

fig = plt.figure()
ax = fig.add_subplot(1, 1, 1)

# Move left y-axis and bottom x-axis to centre, passing through (0,0)
ax.spines['left'].set_position('center')
ax.spines['bottom'].set_position('center')

# Eliminate upper and right axes
ax.spines['right'].set_color('none')
ax.spines['top'].set_color('none')

# Show ticks in the left and lower axes only
ax.xaxis.set_ticks_position('bottom')
ax.yaxis.set_ticks_position('left')

plt.plot(x,sig)
plt.show()

















def plot_math_function(f, min_x, max_x, num_points):
    f_vectorized = np.vectorize(f)
    y = f_vectorized(x)

    plt.plot(x, y)

    ax = plt.gca()

    ax.spines["bottom"].set_position("zero")
    ax.spines["left"].set_position("zero")
    ax.spines["top"].set_visible(False)
    ax.spines["right"].set_visible(False)

    plt.gca().set_aspect("equal")
    plt.show()


plot_math_function(lambda x: 2 * x + 3, -3, 5, 1000)
plot_math_function(lambda x: -x + 8, -1, 10, 1000)
plot_math_function(lambda x: x**2 - x - 2, -3, 4, 1000)
plot_math_function(lambda x: np.sin(x), -np.pi, np.pi, 1000)
plot_math_function(lambda x: np.sin(x) / x, -4 * np.pi, 4 * np.pi, 1000)


def plot_math_function(f, min_x, max_x, num_points):
    f_vectorized = np.vectorize(f)
    y = f_vectorized(x)

    plt.plot(x, y)

    ax = plt.gca()

    ax.spines["bottom"].set_position("zero")
    ax.spines["left"].set_position("zero")
    ax.spines["top"].set_visible(False)
    ax.spines["right"].set_visible(False)

    plt.gca().set_aspect("equal")
    plt.show()

def pop(x):
    return 


def plot_math_function(f, min_x, max_x, num_points):
    x = np.linspace(min_x, max_x, num_points)
    y = f(x)

    plt.plot(x, y)

    ax = plt.gca()

    ax.spines["bottom"].set_position("zero")
    ax.spines["left"].set_position("zero")
    ax.spines["top"].set_visible(False)
    ax.spines["right"].set_visible(False)

    plt.gca().set_aspect("equal")
    plt.show()


plot_math_function(lambda x: 2 * x + 3, -3, 5, 1000)
plot_math_function(lambda x: -x + 8, -1, 10, 1000)
plot_math_function(lambda x: x**2 - x - 2, -3, 4, 1000)
plot_math_function(lambda x: np.sin(x), -np.pi, np.pi, 1000)
plot_math_function(lambda x: np.sin(x) / x, -4 * np.pi, 4 * np.pi, 1000)





def plot_math_functions(functions, min_x, max_x, num_points):
    
    vectorized_fs = [np.vectorize(f) for f in functions]
    for f in vectorized_fs:
        x = np.linspace(min_x, max_x, num_points)
        y = f(x)

        plt.plot(x, y)

    ax = plt.gca()
    ax.spines["bottom"].set_position("zero")
    ax.spines["left"].set_position("zero")
    ax.spines["top"].set_visible(False)
    ax.spines["right"].set_visible(False)

    plt.gca().set_aspect("equal")

    plt.show()


plot_math_functions([lambda x: 2 * x + 3, lambda x: 0], -3, 5, 1000) 
plot_math_functions([lambda x: 3 * x**2 - 2 * x + 5, lambda x: 3 * x + 7], -2, 3, 1000)


def plot_math_functions(functions, min_x, max_x, num_points):
    x = np.linspace(min_x, max_x, num_points)
    vectorized_fs = [np.vectorize(f) for f in functions]
    ys = [vectorized_f(x) for vectorized_f in vectorized_fs]
    for y in ys:
        plt.plot(x, y)

    ax = plt.gca()
    ax.spines["bottom"].set_position("zero")
    ax.spines["left"].set_position("zero")
    ax.spines["top"].set_visible(False)
    ax.spines["right"].set_visible(False)

    plt.gca().set_aspect("equal")
    
    plt.show()


plot_math_functions([lambda x: 2 * x + 3, lambda x: 0], -3, 5, 1000) 
plot_math_functions([lambda x: 3 * x**2 - 2 * x + 5, lambda x: 3 * x + 7], -2, 3, 1000)


plot_math_functions([lambda x: (-4 * x + 7) / 3, lambda x: (-3 * x + 8) / 5, lambda x: (-x - 1) / -2], -1, 4, 1000)








x = np.linspace(-1, 1, 30)
y = np.arcsin(x)

plt.plot(x, y)
plt.show()


x = np.linspace(-1, 1, 30)
y = np.arcsin(x)

plt.plot(x, y)
plt.grid(True)

ax = plt.gca()
ax.spines["bottom"].set_position("zero")
ax.spines["left"].set_position("zero")
ax.spines["top"].set_visible(False)
ax.spines["right"].set_visible(False)

plt.gca().set_aspect("equal")
ax.xaxis.get_major_ticks()[3].label1.set_visible(False)

plt.show()


# Creating a NumPy Array of 30 evenly-spaced elements
a = np.linspace(-1,1,30)
 
# Storing the computed arcsin values in a NumPy Array
b = np.arcsin(a)

plt.plot(a, b, color = "blue", marker = "o" , ms = 5,mfc = "r")
plt.grid(True)

plt.xlabel("X")
plt.ylabel("Y")

ax = plt.gca()

ax.spines["bottom"].set_position("zero")
ax.spines["left"].set_position("zero")
ax.spines["top"].set_visible(False)
ax.spines["right"].set_visible(False)

plt.gca().set_aspect("equal")
ax.xaxis.get_major_ticks()[3].label1.set_visible(False)

plt.show()


x = np.linspace(-1, 1, 30)
y = np.arcsin(x)

plt.plot(x, y)
plt.grid(True)

ax = plt.gca()

ax.spines["bottom"].set_position("zero")
ax.spines["left"].set_position("zero")
ax.spines["top"].set_visible(False)
ax.spines["right"].set_visible(False)

plt.gca().set_aspect("equal")
ax.xaxis.get_major_ticks()[3].label1.set_visible(False)

plt.show()


x = np.linspace(-1, 1, 30)
y = np.arccos(x)

plt.plot(x, y)
plt.grid(True)
ax = plt.gca()

ax.spines["bottom"].set_position("zero")
ax.spines["left"].set_position("zero")
ax.spines["top"].set_visible(False)
ax.spines["right"].set_visible(False)

plt.gca().set_aspect("equal")
ax.xaxis.get_major_ticks()[5].label1.set_visible(False)

plt.show()


x = np.linspace(-1, 1, 30)
y = np.arctan(x)

plt.plot(x, y)
plt.grid(True)

ax = plt.gca()

ax.spines["bottom"].set_position("zero")
ax.spines["left"].set_position("zero")
ax.spines["top"].set_visible(False)
ax.spines["right"].set_visible(False)

plt.gca().set_aspect("equal")
ax.xaxis.get_major_ticks()[5].label1.set_visible(False)

plt.show()


x = np.linspace(-1, 1, 30)

plt.plot(x, np.pi/2 - np.arctan(x))
plt.grid(True)

ax = plt.gca()

ax.spines["bottom"].set_position("zero")
ax.spines["left"].set_position("zero")
ax.spines["top"].set_visible(False)
ax.spines["right"].set_visible(False)

plt.gca().set_aspect("equal")
ax.xaxis.get_major_ticks()[5].label1.set_visible(False)

plt.show()



