%matplotlib inline


import numpy as np
from numpy.polynomial.polynomial import Polynomial
import matplotlib.pyplot as plt
from numpy import newaxis








points = np.array([(0, 0), (1, 0.8), (2, 0.9), (3, 0.1), (4, -0.8), (5, -1.0)])

x = points[:, 0]
y = points[:, 1]

Polynomial.fit(x, y, len(points) - 1)


# Write your codex = points[:, 0]
points = np.array([(0, 0), (1, 0.8), (2, 0.9), (3, 0.1), (4, -0.8), (5, -1.0)])

x = points[:, 0]
y = points[:, 1]

polynomial_function = Polynomial.fit(x, y, len(points) - 1)

polynomial_function(5)






def interpolate_polynomial(points, degree, min_x, max_x):
    """
    Interpolates a polynomial of the specified degree through the given points and plots it
    points - a list of points (x, y) to plot
    degree - the polynomial degree
    min_x, max_x - range of x values used to plot the interpolating polynomial
    """
    # Write your code here
    x = points[:, 0]
    y = points[:, 1]

    polynomial_function = Polynomial.fit(x, y, len(points) - 1)

    plot_x = np.linspace(min_x, max_x, 100)
    plot_y = polynomial_function(plot_x)

    plt.plot(plot_x, plot_y)
    plt.scatter(x, y, c = "g")
    
    plt.xlabel("x")
    plt.ylabel("y")
    plt.show()


points = np.array([(0, 0), (1, 0.8), (2, 0.9), (3, 0.1), (4, -0.8), (5, -1.0)])
interpolate_polynomial(points, len(points) - 1, np.min(points[:, 0]), np.max(points[:, 0]))





interpolate_polynomial(points, len(points) - 1, -5, 10)





interpolate_polynomial(points, 3, np.min(points[:, 0]), np.max(points[:, 0]))
interpolate_polynomial(points, 2, np.min(points[:, 0]), np.max(points[:, 0]))
interpolate_polynomial(points, 1, np.min(points[:, 0]), np.max(points[:, 0]))





interpolate_polynomial(points, 5, np.min(points[:, 0]), np.max(points[:, 0]))
interpolate_polynomial(points, 7, np.min(points[:, 0]), np.max(points[:, 0]))
interpolate_polynomial(points, 10, np.min(points[:, 0]), np.max(points[:, 0]))





interpolate_polynomial(points, 5, -10, 10)
interpolate_polynomial(points, 7, -10, 10)
interpolate_polynomial(points, 10, -10, 10)





interpolate_polynomial(points, len(points) - 1, -2, 7)
interpolate_polynomial(points, len(points) + 1, -2, 7)





points = np.array([(-5, 0.03846), (-4, 0.05882), (-3, 0.1), (-2, 0.2), (-1, 0.5), (0, 1), (1, 0.5), (2, 0.2), (3, 0.1), (4, 0.05882), (5, 0.03846)])
interpolate_polynomial(points, len(points) - 1, np.min(points[:, 0]), np.max(points[:, 0]))





# Write your code here

points = np.array([(-5, 0.03846), (-4, 0.05882), (-3, 0.1), (-2, 0.2), (-1, 0.5), (0, 1), (1, 0.5), (2, 0.2), (3, 0.1), (4, 0.05882), (5, 0.03846)])

x = np.linspace(-5, 5, 1000)
y = 1 / (1 + x ** 2)

plt.plot(x, y, linewidth = 3)
interpolate_polynomial(points, len(points - 1), np.min(points[:, 0]), np.max(points[:, 0]))





def plot_complex_number(z):
    """
    Plots the complex number z as a radius vector in the 2D space
    """
    plt.quiver(0, 0, z.real, z.imag, angles = "xy", scale_units = "xy", scale = 1)
    
    plt.xticks(range(-8,9))
    plt.yticks(range(-8,9))

plot_complex_number(2 + 3j)





def plot_complex_numbers(numbers, colors):
    """
    Plots the given complex numbers as radius vectors in the 2D space
    """
    # Write your code here
    plt.quiver(
        [0] * len(numbers),
        [0] * len(numbers),
        [z.real for z in numbers],
        [z.imag for z in numbers],
        angles = "xy", scale_units = "xy", scale = 1, color = colors)

    plt.xticks(range(-8,9))
    plt.yticks(range(-8,9))
    
plot_complex_numbers([2 + 3j, -2 - 1j, -3, 2j], ["green", "red", "blue", "orange"])





z1 = 2 + 3j
z2 = 1 - 1j
plot_complex_numbers([z1, z2, z1 + z2], ["red", "blue", "green"])





z1 = 2 + 3j
z2 = 2 + 0j
plot_complex_numbers([z1, z2, z1 + z2], ["red", "blue", "green"])


z1 = 2 + 3j
z2 = 0 + 2j
plot_complex_numbers([z1, z2, z1 + z2], ["red", "blue", "green"])





z = 2 + 3j
plot_complex_numbers([z, z * 1], ["red", "blue"])
plot_complex_numbers([z, z * -1], ["red", "blue"])
plot_complex_numbers([z, z * 1j], ["red", "blue"])
plot_complex_numbers([z, z * -1j], ["red", "blue"])








z1 = 2 + 3j
z2 = 1 - 2j
plot_complex_numbers([z1, z2, z1 * z2], ["red", "blue", "green"])





def factorial_recursive(n):
    """
    Computes the factorial of a non-negative number n (using recursion)
    """
    # Write your code here
    if n == 0:
        return 1
    return n * factorial_recursive(n - 1)
    
def factorial_iterative(n):
    """
    Computes the factorial of a non-negative number n (using iteration)
    """
    # Write your code here
    if n == 0:
        return 1
    result = 1
    for i in range(1, n + 1):
        result *= i
    return result


factorial_recursive(7)


factorial_recursive(30) == 30 * factorial_recursive(29)


factorial_iterative(7)


factorial_iterative(7) == factorial_recursive(7)


for i in range(750):
    assert (factorial_iterative(i) == factorial_recursive(i))








def nat():
    """Returns all natural numbers"""
    current_number = 0
    while True:
        yield current_number
        current_number += 1


natural_numbers = nat()


[next(natural_numbers) for _ in range(30)]


def even():
    """Returns all even numbers"""
    current_number = 0
    while True:
        yield current_number
        current_number += 1


numbers = even()


next(numbers)


for i in numbers:
    if i >= 10:
        break
    elif i % 2 == 0:
        print(i)





def factorial_new():
    # Write your own docstring as showing it here will be too much of a hint :)
    # Don't forget to also write the code :D
    current_number = 1
    result = 1
    while True:
        yield result
        result *= current_number
        current_number += 1


for n in factorial_new():
    print(n)
    if n >= 1000:
        break


for n, n_factorial in enumerate(factorial_new()):
    print(f"{n}! =", n_factorial)
    if n_factorial >= 1000:
        break





def fibonacci():
    # Write your docstring and code
    a, b = 0, 1

    while True:
        yield a
        a, b = b, a + b


for n, fib in enumerate(fibonacci()):
    print(f"fib({n}):", fib)
    if fib >= 1000:
        break











# Write your code here





def encode(text):
    """
    Returns the run-length encoded version of the text
    (numbers after symbols, length = 1 is skipped)
    """
    encoded = ""

    end_range = len(str(text)) - 1
    i = 0
    while i < end_range:
        count = 1
        encoded = encoded + str(text[i])
        while (text[i] == text[i + 1]):
            count += 1
            i += 1
            if i == end_range:
                break
        if count > 1:
            encoded += str(count)
        i += 1

    return encoded   

def decode(text):
    """
    Decodes the text using run-length encoding
    """
    decoded = ""

    for i in range(0, len(text)):
        if text[i].isalpha():
            decoded = decoded + text[i]
        elif text[i].isdigit():
            count = int(text[i])
            while count >= 2:
                last_letter = decoded[-1]
                decoded = decoded + last_letter
                count -= 1
    return decoded


# Tests
# Test that the functions work on their own
assert encode("AABCCCDEEEE") == "A2BC3DE4"
assert decode("A2BC3DE4") == "AABCCCDEEEE"

# Test that the functions really invert each other
assert decode(encode("AABCCCDEEEE")) == "AABCCCDEEEE"
assert encode(decode("A2BC3DE4")) == "A2BC3DE4"





# Write your code here





# Write your code here






